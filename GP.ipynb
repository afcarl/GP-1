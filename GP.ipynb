{
 "cells": [
  {
   "cell_type": "code",
   "execution_count": 1,
   "metadata": {
    "collapsed": false
   },
   "outputs": [],
   "source": [
    "from __future__ import division\n",
    "import numpy as np\n",
    "import matplotlib.pyplot as plt\n",
    "import scipy.spatial\n",
    "# Allow matplotlib to plot inside this notebook\n",
    "%matplotlib inline\n",
    "# Set the seed of the numpy random number generator so that the tutorial is reproducable\n",
    "np.random.seed(seed=1)"
   ]
  },
  {
   "cell_type": "markdown",
   "metadata": {},
   "source": [
    "http://www.cs.ubc.ca/~nando/540-2013/lectures.html\n",
    "https://www.youtube.com/watch?v=w2OtwL5T1ow&list=PLE6Wd9FR--EdyJ5lbFl8UuGjecvVw66F6\n",
    "http://videolectures.net/gpip06_mackay_gpb/\n",
    "http://www.robots.ox.ac.uk/~mebden/reports/GPtutorial.pdf\n",
    "http://www.gaussianprocess.org/gpml/chapters/RW2.pdf"
   ]
  },
  {
   "cell_type": "markdown",
   "metadata": {},
   "source": [
    "$X$ is samples\n",
    "\n",
    "Mean is the expected value over all samples.\n",
    "\n",
    "$$\\overline{X} = \\mathbb{E}[X]$$\n",
    "\n",
    "Covariance:\n",
    "https://en.wikipedia.org/wiki/Covariance\n",
    "\n",
    "\n",
    "$$C(X,Y) = \\mathbb{E}[(X-\\overline{X})(Y-\\overline{Y})^T] = \\Sigma_{X,Y} $$\n",
    "\n",
    "$$C(X,X) = \\Sigma_{X}$$\n",
    "\n",
    "Mean and Variance of a Linear Transformation\n",
    "\n",
    "$Y = LX + u$ has mean $\\overline{Y} = v + L\\overline{X}$ and covariance matrix $\\Sigma_{Y} = L\\Sigma_{X}L^T$\n",
    "\n",
    "Proof:\n",
    "\n",
    "$$\\overline{Y} = \\mathbb{E}[Y] = \\mathbb{E}[LX + u] = \\mathbb{E}[LX] + u = L\\overline{X} + u$$\n",
    "\n",
    "$$\\begin{split}\n",
    "\\Sigma_{Y} & = \\mathbb{E}[(Y-\\overline{Y})(Y-\\overline{Y})^T] \\\\\n",
    "           & = \\mathbb{E}[(LX+u - L\\overline{X}-u)(LX+u - L\\overline{X}-u)^T] \\\\\n",
    "           & = \\mathbb{E}[(L(X-\\overline{X})) (L(X-\\overline{X}))^T] \\\\\n",
    "           & = \\mathbb{E}[L(X-\\overline{X}) (X-\\overline{X})^TL^T] \\\\\n",
    "           & = L\\mathbb{E}[(X-\\overline{X})(X-\\overline{X})^T]L^T \\\\\n",
    "           & = L\\Sigma_{X}L^T\n",
    "\\end{split}$$"
   ]
  },
  {
   "cell_type": "markdown",
   "metadata": {},
   "source": [
    "Multivariate Gaussian Theorem\n",
    "\n",
    "Suppose $\\mathbf{x} = (\\mathbf{x}_1, \\mathbf{x}_2)$ is jointly Gaussian with:\n",
    "\n",
    "$$\n",
    "\\mu = \\left[\\begin{array}{c} \\mu_1 \\\\ \\mu_2 \\end{array}\\right], \\quad\n",
    "\\Sigma = \\left[\\begin{array}{cc}\n",
    "\\Sigma_{11} & \\Sigma_{12} \\\\\n",
    "\\Sigma_{21} & \\Sigma_{22}\n",
    "\\end{array}\\right], \\quad\n",
    "\\Lambda = \\Sigma^{-1} = \\left[\\begin{array}{cc}\n",
    "\\Lambda_{11} & \\Lambda_{12} \\\\\n",
    "\\Lambda_{21} & \\Lambda_{22}\n",
    "\\end{array}\\right]\n",
    "$$\n",
    "\n",
    "Then the marginals are given by:\n",
    "$$p(\\mathbf{x}_1) = \\mathcal{N}(\\mu_1,\\Sigma_{11})$$\n",
    "$$p(\\mathbf{x}_2) = \\mathcal{N}(\\mu_2,\\Sigma_{22})$$\n",
    "\n",
    "The posterior conditional is given by:\n",
    "$$p(\\mathbf{x}_1 \\mid \\mathbf{x}_2) = \\mathcal{N}(\\mu_{1|2},\\Sigma_{1|2})$$\n",
    "With:\n",
    "$$\\begin{split}\n",
    "\\mu_{1|2} & = \\mu_1 + \\Sigma_{12}\\Sigma_{22}^{-1}(x_2 - \\mu_2) \\\\\n",
    "          & = \\mu_1 - \\Lambda_{11}^{-1}\\Lambda_{12}(x_2 - \\mu_2) \\\\\n",
    "          & = \\Sigma_{1|2}(\\Lambda_{11}\\mu_1 - \\Lambda_{12}(x_2 - \\mu_2)) \\\\\n",
    "\\Sigma_{1|2} & = \\Sigma_{11} - \\Sigma_{12}\\Sigma_{22}^{-1}\\Sigma_{21} = \\Lambda_{11}^{-1}\n",
    "\\end{split}$$"
   ]
  },
  {
   "cell_type": "markdown",
   "metadata": {},
   "source": [
    "## Gaussian processes\n",
    "\n",
    "A Gaussian process (GP) associates a normally distributed random variable $y$ for every point in the input space $\\mathbf{x} \\in \\mathbb{R}^n$ such that any finite subset $(y_1 ... y_n)$ of these random variables is a multivariate normal (Gaussian) distribution. Since the GP defines a variable $y$ for every point $\\mathbf{x}$ it is a  distribution of functions $f(\\mathbf{x})=y$:\n",
    "\n",
    "$$p(f) = \\mathcal{GP}(m(\\mathbf{x}),C(\\mathbf{x},\\mathbf{x}')), \\quad f:\\mathbb{R}^n \\rightarrow \\mathbb{R}$$\n",
    "\n",
    "With $p(f)$ the distribution of $f$. The mean $m(X)$ and covariance $C(X)$ a function of $X$. And $X$ the data.\n",
    "\n",
    "$$m(X) = \\mathbb{E}[f(X)]$$\n",
    "\n",
    "$$C(X,X') = \\mathbb{E}[(f(X)-m(X))(f(X')-m(X'))] $$\n",
    "\n",
    "\n",
    "The covariance matrix can be modelled by a kernel $\\kappa(x,x') = \\text{exp}(-\\frac{1}{2\\sigma} \\lVert x-x' \\rVert^2)$"
   ]
  },
  {
   "cell_type": "markdown",
   "metadata": {},
   "source": [
    " A Gaussian process is a generalization of the\n",
    "Gaussian probability distribution. Whereas a probability distribution describes\n",
    "random variables which are scalars or vectors (for multivariate distributions),\n",
    "a stochastic process governs the properties of functions. Leaving mathematical\n",
    "sophistication aside, one can loosely think of a function as a very long vector,\n",
    "each entry in the vector specifying the function value f(x) at a particular input\n",
    "x. \n",
    "\n",
    "\n",
    "There are several ways to interpret Gaussian process (GP) regression models.\n",
    "One can think of a Gaussian process as defining a distribution over functions,\n",
    "and inference taking place directly in the space of functions, the function-space view\n",
    "\n",
    "Definition 2.1 A Gaussian process is a collection of random variables, any finite number of which have a joint Gaussian distribution.\n",
    "\n",
    "A Gaussian process is completely specified by its mean function and covariance function.\n",
    "\n",
    "the random variables represent the value of the function f(x) at location x\n",
    "\n",
    "The specification of the covariance function implies a distribution over functions"
   ]
  },
  {
   "cell_type": "markdown",
   "metadata": {},
   "source": [
    "## Gaussian processes NEW\n",
    "\n",
    "A Gaussian process (GP) is a distribution $p(f)$ over functions $f(\\mathbf{x})=y$. A function can be thought of as a infinite vector where each element corresponds to a function value $f(\\mathbf{x})=y$ at a specific input $\\mathbf{x}$.\n",
    "A Gaussian process is defined so that it associates a Gaussian distributed random variable $y$ for every point in the input space $\\mathbf{x} \\in \\mathbb{R}^D$ such that any finite subset $(y_1 ... y_n)$ of these random variables is a joint Gaussian distribution. Since the GP defines a variable $y$ for every point $\\mathbf{x}$ it is a distribution of functions $f(\\mathbf{x})$. A Gaussian process model is completely specified by its mean function and covariance function:\n",
    "\n",
    "$$p(f) = \\mathcal{GP}(m(\\mathbf{x}),C(\\mathbf{x},\\mathbf{x}')), \\quad f:\\mathbb{R}^D \\rightarrow \\mathbb{R}$$\n",
    "\n",
    "With $p(f)$ the distribution of $f$. The mean $m(X)$ and covariance $C(X)$ a function of $X$. And $X$ the data.\n",
    "\n",
    "$$m(X) = \\mathbb{E}[f(X)]$$\n",
    "\n",
    "$$C(X,X') = \\mathbb{E}[(f(X)-m(X))(f(X')-m(X'))] $$\n",
    "\n",
    "Note that the mean of the outputs and the covariance between the outputs are written as functions of the inputs.\n",
    "\n",
    "### Kernel function\n",
    "\n",
    "The covariance matrix can be modelled by a kernel $\\kappa(x,x') = \\text{exp}(-\\frac{1}{2\\sigma} \\lVert x-x' \\rVert^2)$.\n",
    "The specification of the covariance function implies a distribution over functions.\n",
    "By modelling the covariance function as a kernel one can make an implicit mapping of the data to some feature-space.\n",
    "The kernel function captures some prior information."
   ]
  },
  {
   "cell_type": "code",
   "execution_count": 2,
   "metadata": {
    "collapsed": false
   },
   "outputs": [],
   "source": [
    "# Define the RBF kernel\n",
    "def rbf_kernel(p, q, l=1):\n",
    "    \"\"\"RBF kernel: Rexp(-(0.5|p-q|^2)/l^2\"\"\"\n",
    "    #sqNorm = np.square(a) + np.square(b).T - 2*np.dot(a, b.T)  # (a-b)^2 = a^2 + b^2 - 2ab\n",
    "    #http://docs.scipy.org/doc/scipy/reference/generated/scipy.spatial.distance.cdist.html#scipy.spatial.distance.cdist\n",
    "    sqNorm = scipy.spatial.distance.cdist(p, q, 'sqeuclidean')\n",
    "    return np.exp(-(1.0/(2*l**2) * sqNorm))"
   ]
  },
  {
   "cell_type": "code",
   "execution_count": 3,
   "metadata": {
    "collapsed": false
   },
   "outputs": [
    {
     "data": {
      "image/png": "[encoded data removed]",
      "text/plain": [
       "<matplotlib.figure.Figure at 0x105baddd0>"
      ]
     },
     "metadata": {},
     "output_type": "display_data"
    }
   ],
   "source": [
    "x = np.linspace(-4, 4, num=100)\n",
    "zero = np.matrix([[0]])\n",
    "y1 = [rbf_kernel(zero, np.matrix([[xi]]), 0.5)[0][0] for xi in x]\n",
    "y2 = [rbf_kernel(zero, np.matrix([[xi]]), 1)[0][0] for xi in x]\n",
    "plt.plot(x, y1, 'b-', label=\"$\\sigma=0.1$\")\n",
    "plt.plot(x, y2, 'r-', label=\"$\\sigma=1$\")\n",
    "plt.plot((0, 0), (0, 1), 'k-')\n",
    "plt.xlabel('$x\\'$', fontsize=15)\n",
    "plt.ylabel('$K(x,x\\')$', fontsize=15)\n",
    "plt.title('RBF distance plots with respect to x=0')\n",
    "plt.grid()\n",
    "plt.legend(loc=1)\n",
    "plt.show()"
   ]
  },
  {
   "cell_type": "markdown",
   "metadata": {},
   "source": [
    "Cholesky decomposition requires your matrix to be positive definite. If your matrix supposed to be positive definite, you can add a small jitter (e.g. 10−5) to the diagonal of the matrix until it becomes a positive definite matrix. If your derivation is\n",
    "wrong, then don’t bother it.\n",
    "http://home.in.tum.de/~xiaoh/emmemo.pdf\n",
    "\n",
    "### Sampling from prior:\n",
    "\n",
    "The modelling of the covariance function as a kernel implies a distribution over functions because it's possible to sample from this distribution of functions at any number of points. To sample from a prior with mean $m(\\mathbf{x})=0$ and kernel $K(\\mathbf{x},\\mathbf{x})$ we can pick a number of input points $X_*$ and create the corresponding covariance matrix defined by  $K(X_*,X_*)$ ($=K_{**}$). It is possible to then generate a random Guassian vector $f(X_*)=\\mathbf{y}_*$ by sampling from $\\mathcal{N}(0,K_{**})$\n",
    "\n",
    "#### Sample from multivariate Gaussian distribution\n",
    "\n",
    "https://en.wikipedia.org/wiki/Multivariate_normal_distribution#Drawing_values_from_the_distribution\n",
    "\n",
    "It is possible to sample from the multivariate $\\mathbf{y}_* \\sim \\mathcal{N}(0,K_{**})$ with the help of the Cholesky decomposition $K_{**} = L * L^T$. To see this remember that the covariance of $B = LA$ is $L\\Sigma_{A}L^T$. So we can write $K_{**} =  L * L^T = LIL^T$, with $I$ the identity matrix, and sample from $\\mathbf{y}_* \\sim L\\mathcal{N}(0,I)$\n",
    "\n",
    "We illustrate this below by sampling at discrite points from $\\mathcal{N}(0,I)$ with np.random.normal and taking the dot product of this with $L$. We sample 5 functions in total. Note that each of them is quite smooth since the RBF kernel function acts as a smoothness prior."
   ]
  },
  {
   "cell_type": "markdown",
   "metadata": {},
   "source": [
    "https://en.wikipedia.org/wiki/Covariance_function\n"
   ]
  },
  {
   "cell_type": "code",
   "execution_count": 9,
   "metadata": {
    "collapsed": false
   },
   "outputs": [
    {
     "data": {
      "image/png": "[encoded data removed]",
      "text/plain": [
       "<matplotlib.figure.Figure at 0x107078b50>"
      ]
     },
     "metadata": {},
     "output_type": "display_data"
    }
   ],
   "source": [
    "nb_of_samples = 100 # number of test points.\n",
    "Xtest = np.matrix(np.linspace(-4, 4, nb_of_samples)).T\n",
    "\n",
    "K = rbf_kernel(Xtest, Xtest) # Kernel at test points.\n",
    "\n",
    "# draw samples from the prior at our test points.\n",
    "L = np.linalg.cholesky(K + 1e-14 * np.eye(nb_of_samples))\n",
    "f_prior = L.dot(np.random.normal(size=(nb_of_samples,5)))\n",
    "plt.plot(Xtest, f_prior, '.')\n",
    "plt.grid()\n",
    "plt.show()"
   ]
  },
  {
   "cell_type": "markdown",
   "metadata": {},
   "source": [
    "## Sample from posterior\n",
    "Observed data: $\\mathcal{D} = \\{ (\\mathbf{x}_i, y_i), i = 1 ... n \\}$ with $y_i = f(\\mathbf{x}_i)$\n",
    "\n",
    "$$p(f \\mid \\mathcal{D}) = \\frac{p(\\mathcal{D} \\mid f)p(f)}{p(\\mathcal{D})}$$\n",
    "\n",
    "\n",
    "$$\n",
    "\\left[\\begin{array}{c} y \\\\ y_{*} \\end{array}\\right]\n",
    "\\sim\n",
    "\\mathcal{N} \\left(\n",
    "\\left[\\begin{array}{c} \\mu \\\\ \\mu_{*} \\end{array}\\right]\n",
    "\\left[ \\begin{array}{cc}\n",
    "K & K_{*} \\\\\n",
    "K_{*}^T & K_{**}\n",
    "\\end{array} \\right]\n",
    "\\right)\n",
    "$$\n",
    "\n",
    "With $K=\\kappa(X,X)$, $K_{*}=\\kappa(X,X_{*})$, $K_{**}=\\kappa(X,X_{**})$\n",
    "\n",
    "Training set : $X$, test set: $X_*$\n",
    "\n",
    "$$\\begin{split}\n",
    "p(f_* \\mid X_*, X, y) & =  \\mathcal{N}(\\mu_*, \\Sigma_*) \\\\\n",
    "\\mu_* & =  \\mu(X_*) + K_*^T K^{-1} (f - \\mu(X)) \\\\\n",
    "\\Sigma_* & =  K_{**} - K_*^T K^{-1}K_*\n",
    "\\end{split}$$"
   ]
  },
  {
   "cell_type": "code",
   "execution_count": 5,
   "metadata": {
    "collapsed": false
   },
   "outputs": [
    {
     "ename": "NameError",
     "evalue": "name 'kernel' is not defined",
     "output_type": "error",
     "traceback": [
      "\u001b[0;31m---------------------------------------------------------------------------\u001b[0m",
      "\u001b[0;31mNameError\u001b[0m                                 Traceback (most recent call last)",
      "\u001b[0;32m<ipython-input-5-9cde44cf6353>\u001b[0m in \u001b[0;36m<module>\u001b[0;34m()\u001b[0m\n\u001b[1;32m     20\u001b[0m \u001b[0my\u001b[0m \u001b[0;34m=\u001b[0m \u001b[0mf\u001b[0m\u001b[0;34m(\u001b[0m\u001b[0mX\u001b[0m\u001b[0;34m)\u001b[0m \u001b[0;34m+\u001b[0m \u001b[0ms\u001b[0m\u001b[0;34m*\u001b[0m\u001b[0mnp\u001b[0m\u001b[0;34m.\u001b[0m\u001b[0mrandom\u001b[0m\u001b[0;34m.\u001b[0m\u001b[0mrandn\u001b[0m\u001b[0;34m(\u001b[0m\u001b[0mN\u001b[0m\u001b[0;34m)\u001b[0m\u001b[0;34m\u001b[0m\u001b[0m\n\u001b[1;32m     21\u001b[0m \u001b[0;34m\u001b[0m\u001b[0m\n\u001b[0;32m---> 22\u001b[0;31m \u001b[0mK\u001b[0m \u001b[0;34m=\u001b[0m \u001b[0mkernel\u001b[0m\u001b[0;34m(\u001b[0m\u001b[0mX\u001b[0m\u001b[0;34m,\u001b[0m \u001b[0mX\u001b[0m\u001b[0;34m)\u001b[0m\u001b[0;34m\u001b[0m\u001b[0m\n\u001b[0m\u001b[1;32m     23\u001b[0m \u001b[0mL\u001b[0m \u001b[0;34m=\u001b[0m \u001b[0mnp\u001b[0m\u001b[0;34m.\u001b[0m\u001b[0mlinalg\u001b[0m\u001b[0;34m.\u001b[0m\u001b[0mcholesky\u001b[0m\u001b[0;34m(\u001b[0m\u001b[0mK\u001b[0m \u001b[0;34m+\u001b[0m \u001b[0ms\u001b[0m\u001b[0;34m*\u001b[0m\u001b[0mnp\u001b[0m\u001b[0;34m.\u001b[0m\u001b[0meye\u001b[0m\u001b[0;34m(\u001b[0m\u001b[0mN\u001b[0m\u001b[0;34m)\u001b[0m\u001b[0;34m)\u001b[0m\u001b[0;34m\u001b[0m\u001b[0m\n\u001b[1;32m     24\u001b[0m \u001b[0;34m\u001b[0m\u001b[0m\n",
      "\u001b[0;31mNameError\u001b[0m: name 'kernel' is not defined"
     ]
    }
   ],
   "source": [
    "\n",
    "\"\"\" This is code for simple GP regression. It assumes a zero mean GP Prior \"\"\"\n",
    "\n",
    "np.random.seed(seed=1)\n",
    "\n",
    "# This is the true unknown function we are trying to approximate\n",
    "f = lambda x: (np.sin(0.9*x)).flatten()\n",
    "#f = lambda x: (0.25*(x**2)).flatten()\n",
    "\n",
    "\n",
    "\n",
    "\n",
    "N = 10       # number of training points.\n",
    "n = 50         # number of test points.\n",
    "s = 0.00005    # noise variance.\n",
    "\n",
    "# Sample some input points and noisy versions of the function evaluated at\n",
    "# these points. \n",
    "X = np.random.uniform(-5, 5, size=(N,1))\n",
    "y = f(X) + s*np.random.randn(N)\n",
    "\n",
    "K = kernel(X, X)\n",
    "L = np.linalg.cholesky(K + s*np.eye(N))\n",
    "\n",
    "# points we're going to make predictions at.\n",
    "Xtest = np.linspace(-5, 5, n).reshape(-1,1)\n",
    "\n",
    "# compute the mean at our test points.\n",
    "Lk = np.linalg.solve(L, kernel(X, Xtest))\n",
    "mu = np.dot(Lk.T, np.linalg.solve(L, y))\n",
    "\n",
    "# compute the variance at our test points.\n",
    "K_ = kernel(Xtest, Xtest)\n",
    "s2 = np.diag(K_) - np.sum(Lk**2, axis=0)\n",
    "s = np.sqrt(s2)"
   ]
  },
  {
   "cell_type": "code",
   "execution_count": null,
   "metadata": {
    "collapsed": true
   },
   "outputs": [],
   "source": []
  },
  {
   "cell_type": "code",
   "execution_count": null,
   "metadata": {
    "collapsed": false
   },
   "outputs": [],
   "source": [
    "np.random.seed(seed=1)\n",
    "# PLOTS:\n",
    "pl.figure(1)\n",
    "pl.clf()\n",
    "pl.plot(X, y, 'r+', ms=20)\n",
    "pl.plot(Xtest, f(Xtest), 'b-')\n",
    "pl.gca().fill_between(Xtest.flat, mu-3*s, mu+3*s, color=\"#dddddd\")\n",
    "pl.plot(Xtest, mu, 'r--', lw=2)\n",
    "pl.savefig('predictive.png', bbox_inches='tight')\n",
    "pl.title('Mean predictions plus 3 st.deviations')\n",
    "pl.axis([-5, 5, -3, 3])\n",
    "print('fig 1 created')\n",
    "\n",
    "# draw samples from the prior at our test points.\n",
    "L = np.linalg.cholesky(K_ + 1e-6*np.eye(n))\n",
    "f_prior = np.dot(L, np.random.normal(size=(n,10)))\n",
    "pl.figure(2)\n",
    "pl.clf()\n",
    "pl.plot(Xtest, f_prior)\n",
    "pl.title('Ten samples from the GP prior')\n",
    "pl.axis([-5, 5, -3, 3])\n",
    "pl.savefig('prior.png', bbox_inches='tight')\n",
    "print('fig 2 created')\n",
    "\n",
    "# draw samples from the posterior at our test points.\n",
    "L = np.linalg.cholesky(K_ + 1e-6*np.eye(n) - np.dot(Lk.T, Lk))\n",
    "f_post = mu.reshape(-1,1) + np.dot(L, np.random.normal(size=(n,10)))\n",
    "pl.figure(3)\n",
    "pl.clf()\n",
    "pl.plot(Xtest, f_post)\n",
    "pl.title('Ten samples from the GP posterior')\n",
    "pl.axis([-5, 5, -3, 3])\n",
    "pl.savefig('post.png', bbox_inches='tight')\n",
    "print('fig 3 created')\n",
    "\n",
    "pl.show()"
   ]
  }
 ],
 "metadata": {
  "kernelspec": {
   "display_name": "Python 2",
   "language": "python",
   "name": "python2"
  }
 },
 "nbformat": 4,
 "nbformat_minor": 0
}
