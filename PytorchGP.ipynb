{
 "cells": [
  {
   "cell_type": "code",
   "execution_count": 1,
   "metadata": {},
   "outputs": [
    {
     "name": "stdout",
     "output_type": "stream",
     "text": [
      "Python: 3.7.0\n",
      "numpy: 1.15.2\n",
      "torch: 1.0.0.dev20181007\n",
      "sklearn: 0.20.0\n",
      "matplotlib: 3.0.0\n",
      "seaborn: 0.9.0\n"
     ]
    }
   ],
   "source": [
    "%matplotlib inline\n",
    "\n",
    "import sys\n",
    "import numpy as np\n",
    "import scipy\n",
    "import torch\n",
    "from torch.autograd import Variable\n",
    "import sklearn\n",
    "import sklearn.datasets\n",
    "import matplotlib\n",
    "import matplotlib.pyplot as plt\n",
    "import seaborn as sns\n",
    "from functools import partial\n",
    "\n",
    "sns.set_style('darkgrid')\n",
    "np.random.seed(42)\n",
    "# Print versions used\n",
    "print('Python: {}.{}.{}'.format(*sys.version_info[:3]))\n",
    "print('numpy: {}'.format(np.__version__))\n",
    "print('torch: {}'.format(torch.__version__))\n",
    "print('sklearn: {}'.format(sklearn.__version__))\n",
    "print('matplotlib: {}'.format(matplotlib.__version__))\n",
    "print('seaborn: {}'.format(sns.__version__))\n",
    "#"
   ]
  },
  {
   "cell_type": "code",
   "execution_count": 2,
   "metadata": {},
   "outputs": [],
   "source": [
    "def print_debug(x, s):\n",
    "    print(s, type(x), x.dtype, x.shape)"
   ]
  },
  {
   "cell_type": "code",
   "execution_count": 3,
   "metadata": {},
   "outputs": [],
   "source": [
    "# dataset = sklearn.datasets.fetch_openml(\n",
    "#     'mauna-loa-atmospheric-co2')\n",
    "# print('dataset: ', type(dataset))\n",
    "# print(dir(dataset))\n",
    "# print('data: ', type(data), data.dtype, data.shape)\n",
    "# X = data[:, [1]]\n",
    "# y = data[:, 0]\n",
    "# print('X: ', X.shape)\n",
    "# print('y: ', y.shape)\n",
    "\n",
    "# plt.plot(X, y)\n",
    "# plt.show()"
   ]
  },
  {
   "cell_type": "code",
   "execution_count": 4,
   "metadata": {},
   "outputs": [],
   "source": [
    "EPS = 1e-6"
   ]
  },
  {
   "cell_type": "code",
   "execution_count": 5,
   "metadata": {},
   "outputs": [],
   "source": [
    "# def dist(xa, xb):\n",
    "#     mmp1 = torch.stack([xa]*xa.shape[0])\n",
    "#     print('mmp1: ', mmp1.shape)\n",
    "#     mmp2 = torch.stack([xb]*xb.shape[0]).transpose(0,1)\n",
    "#     print('mmp2: ', mmp2.shape)\n",
    "#     mm = torch.sum((mmp1-mmp2)**2,2).squeeze()\n",
    "#     print('mm: ', mm.shape)\n",
    "#     return mm"
   ]
  },
  {
   "cell_type": "code",
   "execution_count": 6,
   "metadata": {},
   "outputs": [],
   "source": [
    "# # Sample from the Gaussian process distribution\n",
    "# nb_of_samples = 75  # Number of test points.\n",
    "# number_of_functions = 5  # Number of functions to sample\n",
    "# # Independent variable samples\n",
    "# X = torch.tensor(np.expand_dims(np.linspace(-4, 4, nb_of_samples), 1))\n",
    "# print('X: ', type(X), X.dtype, X.shape)\n",
    "# # dist = torch.nn.PairwiseDistance(p=2, eps=1e-06, keepdim=False)\n",
    "# # dist = torch.pairwise_distances(X[..., None, :, :], X[..., None, :])\n",
    "# # print('dist: ', type(dist))\n",
    "# # K = torch.exp(-1 * dist(X, X))\n",
    "# d = dist(X, X)\n",
    "# print('d: ', type(d), d.dtype, d.shape)\n",
    "# K = torch.exp(-1 * d)\n",
    "# print('K: ', type(K), K.dtype, K.shape)\n",
    "\n",
    "# # Small constant to ensure positive definite kernel\n",
    "# #  (also known as Tikhonov matrix)\n",
    "# tikhonov_matrix = torch.tensor(1e-10 * np.eye(nb_of_samples))\n",
    "\n",
    "# # Draw samples from the prior at our data points.\n",
    "# # L = np.linalg.cholesky(K + tikhonov_matrix)\n",
    "# K = K + tikhonov_matrix\n",
    "# print('K: ', type(K), K.dtype, K.shape)\n",
    "# L = torch.potrf(K, upper=False)\n",
    "# print('L: ', type(L), L.dtype, L.shape)\n",
    "# std_normal = torch.tensor(np.random.normal(\n",
    "#     size=(nb_of_samples, number_of_functions)))\n",
    "# print('std_normal: ', type(std_normal), std_normal.dtype, std_normal.shape)\n",
    "# y = L @ std_normal\n",
    "# print('y: ', type(y), y.dtype, y.shape)"
   ]
  },
  {
   "cell_type": "code",
   "execution_count": 7,
   "metadata": {},
   "outputs": [],
   "source": [
    "# # Plot the sampled functions\n",
    "# plt.plot(X.numpy(), y.numpy(), 'o')\n",
    "# plt.xlabel('$x$', fontsize=15)\n",
    "# plt.ylabel('$y$', fontsize=15)\n",
    "# plt.title('Evaluations sampled from 5 functions from Gaussian process')\n",
    "# plt.xlim([-4, 4])\n",
    "# plt.show()\n",
    "# #"
   ]
  },
  {
   "cell_type": "code",
   "execution_count": 8,
   "metadata": {},
   "outputs": [],
   "source": [
    "# Define the true function that we want to regress on\n",
    "f_sin = lambda x: (np.sin(x)).flatten()\n",
    "\n",
    "n1 = 20  # Number of points to condition on (training points)\n",
    "n2 = 100\n",
    "# RBF Kernel function with width set\n",
    "kernel = lambda xa, xb: rbf_kernel(xa, xb)\n",
    "domain = (-10, 10)\n",
    "\n",
    "# Sample some points (X1, y1) on the function\n",
    "X1 = torch.tensor(np.random.uniform(*domain, size=(n1,1)))\n",
    "y1 = f_sin(X1.numpy())\n",
    "noise = 0.2 # The variance of the noise\n",
    "# Add noise to the samples we sampled previously\n",
    "y1_noisy = torch.tensor(np.expand_dims(\n",
    "    y1 + noise * np.random.randn(n1), 1))\n",
    "\n"
   ]
  },
  {
   "cell_type": "code",
   "execution_count": 9,
   "metadata": {},
   "outputs": [
    {
     "data": {
      "image/png": "[encoded data removed]",
      "text/plain": [
       "<Figure size 432x288 with 1 Axes>"
      ]
     },
     "metadata": {
      "needs_background": "light"
     },
     "output_type": "display_data"
    }
   ],
   "source": [
    "# Predict points at uniform spacing to capture function\n",
    "X2 = np.linspace(*domain, n2).reshape(-1,1)\n",
    "\n",
    "# Plot the postior distribution and some samples\n",
    "fig, ax1 = plt.subplots(nrows=1, ncols=1)\n",
    "# Plot the distribution of the function (mean, covariance)\n",
    "ax1.plot(X2, f_sin(X2), 'b--', label='$sin(x)$')\n",
    "ax1.plot(X1.numpy(), y1_noisy.numpy(), 'ko', linewidth=2, label='$(x_1, y_1)$')\n",
    "ax1.set_xlabel('$x$', fontsize=15)\n",
    "ax1.set_ylabel('$y$', fontsize=15)\n",
    "ax1.axis([*domain, -2, 2])\n",
    "plt.show()\n",
    "#"
   ]
  },
  {
   "cell_type": "code",
   "execution_count": 10,
   "metadata": {},
   "outputs": [],
   "source": [
    "# Define the periodic kernel\n",
    "def periodic_kernel(xa, xb, l, p):\n",
    "    \"\"\"Periodic kernel\"\"\"\n",
    "#     print_debug(xa, 'xa')\n",
    "#     print_debug(xb, 'xb')\n",
    "    n = xa.size(0)\n",
    "    m = xb.size(0)\n",
    "    d = xa.size(1)\n",
    "    # L1 distance (Manhattan or cityblock)\n",
    "#     _xa_stack = torch.stack([xa]*xa.shape[0])\n",
    "#     print_debug(_xa_stack, '_xa_stack')\n",
    "#     _xb_stack = torch.stack([xb]*xb.shape[0]).transpose(0,1)\n",
    "#     print_debug(_xb_stack, '_xb_stack')\n",
    "    xa = xa.unsqueeze(1).expand(n, m, d)\n",
    "    xb = xb.unsqueeze(0).expand(n, m, d)\n",
    "#     print_debug(xa, 'xa')\n",
    "#     print_debug(xb, 'xb')\n",
    "    pdiff = torch.sum(torch.abs(xa-xb),2).squeeze()\n",
    "#     print_debug(pdiff, 'pdiff')\n",
    "    return torch.exp(-2*l**2 * torch.sin(p*pdiff)**2)\n",
    "\n",
    "def noise_kernel(xa, xb, s):\n",
    "    return s**2 * torch.eye(xa.shape[0]).double()"
   ]
  },
  {
   "cell_type": "code",
   "execution_count": 11,
   "metadata": {},
   "outputs": [
    {
     "name": "stdout",
     "output_type": "stream",
     "text": [
      "s_noise <class 'torch.Tensor'> torch.float64 torch.Size([1])\n",
      "True\n"
     ]
    }
   ],
   "source": [
    "s_noise = Variable(torch.ones(1).double(), requires_grad=True)\n",
    "s_noise.retain_grad()\n",
    "print_debug(s_noise, 's_noise')\n",
    "print(s_noise.is_leaf)"
   ]
  },
  {
   "cell_type": "code",
   "execution_count": 12,
   "metadata": {},
   "outputs": [
    {
     "name": "stdout",
     "output_type": "stream",
     "text": [
      "periodic_amplitude <class 'torch.Tensor'> torch.float64 torch.Size([1])\n",
      "True\n",
      "periodic_period <class 'torch.Tensor'> torch.float64 torch.Size([1])\n",
      "True\n"
     ]
    }
   ],
   "source": [
    "periodic_amplitude = Variable(torch.ones(1).double(), requires_grad=True)\n",
    "periodic_amplitude.retain_grad()\n",
    "periodic_period = Variable(torch.ones(1).double(), requires_grad=True)\n",
    "periodic_period.retain_grad()\n",
    "print_debug(periodic_amplitude, 'periodic_amplitude')\n",
    "print(periodic_amplitude.is_leaf)\n",
    "print_debug(periodic_period, 'periodic_period')\n",
    "print(periodic_period.is_leaf)"
   ]
  },
  {
   "cell_type": "markdown",
   "metadata": {},
   "source": [
    "$$\n",
    "p(\\mathbf{y} \\mid \\mathbf{\\mu}, \\Sigma) = \\frac{1}{\\sqrt{(2\\pi)^d \\lvert\\Sigma\\rvert}} e^{\\textstyle \\left( -\\frac{1}{2}(\\mathbf{y} - \\mathbf{\\mu})^T \\Sigma^{-1} (\\mathbf{y} - \\mathbf{\\mu}) \\right)}\n",
    "$$\n",
    "\n",
    "$\\mu = 0$, $\\Sigma \\approx K = k_{\\theta}(X, X)$\n",
    "\n",
    "$$\n",
    "\\log p(\\mathbf{y} \\mid X, \\theta) = -\\log {\\sqrt{(2\\pi)^d \\lvert K \\rvert}} +{\\textstyle \\left( -\\frac{1}{2}(\\mathbf{y})^T K^{-1} (\\mathbf{y}) \\right)}\n",
    "$$\n",
    "\n",
    "$$\n",
    "\\log p(\\mathbf{y} \\mid X, \\theta) = -\\frac{1}{2}\\mathbf{y}^\\top K^{-1} \\mathbf{y} -\\frac{1}{2}\\log{|K|} -\\frac{d}{2}\\log{2\\pi}\n",
    "$$"
   ]
  },
  {
   "cell_type": "code",
   "execution_count": 13,
   "metadata": {},
   "outputs": [],
   "source": [
    "def kernel_func(xa, xb): \n",
    "    Ka = periodic_kernel(\n",
    "        xa, xb, \n",
    "        l=periodic_amplitude, p=periodic_period)\n",
    "#     print_debug(Ka, 'Ka')\n",
    "    Kb = noise_kernel(xa, xb, s=s_noise)\n",
    "#     print_debug(Kb, 'Kb')\n",
    "    Kc = EPS * torch.eye(xa.shape[0]).double()\n",
    "#     print_debug(Kc, 'Kc')\n",
    "    return Ka + Kc\n",
    "\n",
    "def neg_log_likelihood(X, y, kernel_func):\n",
    "#     print_debug(X, 'X')\n",
    "#     print_debug(y, 'y')\n",
    "    K = kernel_func(X, X)\n",
    "#     print_debug(K, 'K')\n",
    "    L = torch.potrf(K, upper=False)\n",
    "#     print_debug(L, 'L')\n",
    "    # Determinant of triangular matrix is product of diagonal\n",
    "    det = L.diag().prod()**2\n",
    "    \n",
    "#     print(L.diag().detach().numpy())\n",
    "#     print_debug(det, 'det')\n",
    "#     print(det.detach().numpy())\n",
    "#     print(np.linalg.det(K.detach().numpy()))\n",
    "#     print(np.log(det.detach().item()))\n",
    "    log_det = torch.log(L.diag()).sum()*2\n",
    "#     print(log_det.item())\n",
    "    # Todo assert detreminant is correct\n",
    "#     return (\n",
    "#         ( (1./2) * (y.t() @ L.t() @ L @ y)) * (-1./2) * ( \\\n",
    "#         log_det + \\\n",
    "#         X.shape[0]*torch.log(torch.tensor([2*np.pi]).double()))) + 100*s_noise**2\n",
    "    #     Ly1 = np.linalg.solve(L11, y1)  # y1 / L11\n",
    "#     yL = torch.trtrs(y.t(),  L.t())  # y1 / L11\n",
    "#     Ky = torch.potrs(y, L, upper=False)\n",
    "    Ky = torch.trtrs(y, K)[0]\n",
    "    return (1./2) * (\n",
    "        (y.t() @ Ky) + log_det + X.shape[0]*torch.log(torch.tensor([2*np.pi]).double()))"
   ]
  },
  {
   "cell_type": "code",
   "execution_count": 14,
   "metadata": {},
   "outputs": [
    {
     "name": "stdout",
     "output_type": "stream",
     "text": [
      "loss:  <class 'torch.Tensor'> torch.float64 torch.Size([1, 1])\n",
      "-46.826496121357124\n"
     ]
    }
   ],
   "source": [
    "loss = neg_log_likelihood(X1, y1_noisy, kernel_func)\n",
    "print('loss: ', type(loss), loss.dtype, loss.shape)\n",
    "print(loss.item())"
   ]
  },
  {
   "cell_type": "code",
   "execution_count": 15,
   "metadata": {},
   "outputs": [],
   "source": [
    "# periodic_amplitude.register_hook(print)\n",
    "# periodic_period.register_hook(print)\n",
    "# periodic_amplitude.retain_grad()\n",
    "# periodic_period.retain_grad()"
   ]
  },
  {
   "cell_type": "code",
   "execution_count": 16,
   "metadata": {},
   "outputs": [],
   "source": [
    "# loss.backward()\n",
    "# with torch.no_grad():\n",
    "#     print(periodic_amplitude.grad)\n",
    "#     print(periodic_period.grad)\n",
    "#     periodic_amplitude.grad.zero_()\n",
    "#     periodic_period.grad.zero_()"
   ]
  },
  {
   "cell_type": "code",
   "execution_count": 26,
   "metadata": {},
   "outputs": [],
   "source": [
    "learning_rate = 0.02\n",
    "optimizer = torch.optim.Adam([\n",
    "    periodic_amplitude, periodic_period], \n",
    "    lr=learning_rate)"
   ]
  },
  {
   "cell_type": "code",
   "execution_count": 33,
   "metadata": {
    "scrolled": false
   },
   "outputs": [
    {
     "name": "stdout",
     "output_type": "stream",
     "text": [
      "-100.03193097985523 0\n",
      "-98.25067573034686 100\n",
      "-96.53097768255326 200\n",
      "-99.55002964262657 300\n",
      "-95.30098584642352 400\n",
      "-92.70900273772521 500\n",
      "-90.24016191007752 600\n",
      "-94.08178269530151 700\n",
      "-100.44137330989231 800\n",
      "-101.11460956856055 900\n",
      "-99.88841556171715 1000\n",
      "-98.90138242028894 1100\n",
      "-93.02917911975737 1200\n",
      "-102.0623188166489 1300\n",
      "-97.10577611557311 1400\n",
      "-96.63154007060247 1500\n",
      "-97.75160190500021 1600\n",
      "-98.0100076301862 1700\n",
      "-101.23295115660285 1800\n",
      "-100.65457977456894 1900\n",
      "-99.46125698510862 2000\n",
      "-93.13034185305584 2100\n",
      "-97.1345385075025 2200\n",
      "-97.18943114185451 2300\n",
      "-100.35268848225898 2400\n",
      "-92.94689644453034 2500\n",
      "-97.60868374986434 2600\n",
      "-98.60558239677214 2700\n",
      "-102.70201798804285 2800\n",
      "-99.64205232285279 2900\n",
      "-96.42701266020627 3000\n",
      "-96.54609916276543 3100\n",
      "-100.23826657538476 3200\n",
      "-90.39653640123274 3300\n",
      "-100.52622597819766 3400\n",
      "-96.9928242565329 3500\n",
      "-99.20025285037725 3600\n",
      "-97.28690606441276 3700\n",
      "-106.0986166668915 3800\n",
      "-96.1862521806723 3900\n",
      "-99.22663343963062 4000\n",
      "-99.17531754286375 4100\n",
      "-99.29463574494537 4200\n",
      "-98.42379239476536 4300\n",
      "-99.28901885522419 4400\n",
      "-93.03847309368327 4500\n",
      "-99.6340424517615 4600\n",
      "-91.36197607549164 4700\n",
      "-95.16758725333169 4800\n",
      "-92.68204748502153 4900\n",
      "-102.72721718368163 5000\n",
      "-102.59064990903848 5100\n",
      "-99.49089937243087 5200\n",
      "-97.47514004828119 5300\n",
      "-99.1240307094872 5400\n",
      "-99.8189972035359 5500\n",
      "-96.66237216879928 5600\n",
      "-100.5033455466954 5700\n",
      "-99.69660734997856 5800\n",
      "-100.65282566809054 5900\n",
      "-90.38282936632046 6000\n",
      "-99.70664644155796 6100\n",
      "-99.70160800192548 6200\n",
      "-98.28224489080729 6300\n",
      "-100.33036940223714 6400\n",
      "-100.65142483123793 6500\n",
      "-94.91320542482305 6600\n",
      "-93.54049121571802 6700\n",
      "-92.6697777828745 6800\n",
      "-95.6529317529426 6900\n",
      "-101.7405343872141 7000\n",
      "-96.126525801289 7100\n",
      "-103.94666599087226 7200\n",
      "-98.727529290716 7300\n",
      "-91.31342746114609 7400\n",
      "-92.71827308179247 7500\n",
      "-96.73060247723505 7600\n",
      "-99.59329751798057 7700\n",
      "-99.50979697515469 7800\n",
      "-97.30544462497076 7900\n",
      "-102.97839136633102 8000\n",
      "-92.6539743961511 8100\n",
      "-93.24409922491593 8200\n",
      "-98.38766969118387 8300\n",
      "-94.5211353904268 8400\n",
      "-92.43330281851622 8500\n",
      "-96.25825197103501 8600\n",
      "-100.3124739446252 8700\n",
      "-100.37054253885667 8800\n",
      "-98.16011912642044 8900\n",
      "-99.72337609526224 9000\n",
      "-92.05599544570866 9100\n",
      "-93.25865056073356 9200\n",
      "-94.11318979989872 9300\n",
      "-97.39806394209772 9400\n",
      "-104.24295004195787 9500\n",
      "-98.66276485457189 9600\n",
      "-100.93671538348377 9700\n",
      "-99.2416185995486 9800\n",
      "-98.82584979130013 9900\n"
     ]
    }
   ],
   "source": [
    "for t in range(10000):\n",
    "    loss = neg_log_likelihood(X1, y1_noisy, kernel_func)\n",
    "    if t % 100 == 0:\n",
    "        print(loss.item(), t)\n",
    "#         print(np.exp(-loss.item()), t)\n",
    "    optimizer.zero_grad()\n",
    "    loss.backward()\n",
    "    optimizer.step()"
   ]
  },
  {
   "cell_type": "code",
   "execution_count": 37,
   "metadata": {},
   "outputs": [
    {
     "name": "stdout",
     "output_type": "stream",
     "text": [
      "-0.009866521228165857\n",
      "1.1764314107669078\n",
      "1.0\n"
     ]
    }
   ],
   "source": [
    "print(periodic_amplitude.item())\n",
    "print(periodic_period.item())\n",
    "print(s_noise.item())"
   ]
  },
  {
   "cell_type": "code",
   "execution_count": 38,
   "metadata": {},
   "outputs": [
    {
     "name": "stdout",
     "output_type": "stream",
     "text": [
      "X2 <class 'torch.Tensor'> torch.float64 torch.Size([100, 1])\n"
     ]
    }
   ],
   "source": [
    "# Predict points at uniform spacing to capture function\n",
    "X2 = torch.tensor(np.linspace(*domain, n2).reshape(-1,1)).double()\n",
    "print_debug(X2, 'X2')"
   ]
  },
  {
   "cell_type": "code",
   "execution_count": 39,
   "metadata": {},
   "outputs": [],
   "source": [
    "# Gaussian process posterior\n",
    "def GP(X1, y1, X2, kernel_func):\n",
    "    # Kernel of the samples. K11 = L11 * L11^T\n",
    "    K11 = kernel_func(X1, X1)\n",
    "    print_debug(K11, 'K11')\n",
    "    # Add Jitter to ensure positive definte\n",
    "    L11 = torch.potrf(K11, upper=False)\n",
    "    print_debug(L11, 'L11')\n",
    "    # Compute K12/L11 to be used when computing the posterior\n",
    "    K12 = periodic_kernel(\n",
    "        X1, X2, \n",
    "        l=periodic_amplitude, p=periodic_period)\n",
    "    print_debug(K12, 'K12')\n",
    "#     LK12_numpy = np.linalg.solve(L11.numpy(), K12.numpy)  # K12 / L11\n",
    "#     print('LK12_numpy[3][: ')\n",
    "    LK12 = torch.trtrs(K12, L11, upper=False)[0]\n",
    "    print_debug(LK12, 'LK12')\n",
    "    # Compute the posterior mean\n",
    "#     Ly1 = np.linalg.solve(L11, y1)  # y1 / L11\n",
    "    Ly1 = torch.trtrs(y1, L11, upper=False)[0]\n",
    "    print_debug(Ly1, 'Ly1')\n",
    "    mu2 = LK12.t() @ Ly1\n",
    "    print_debug(mu2, 'v')\n",
    "    # Compute the posterior covariance\n",
    "    K22 = kernel_func(X2, X2)\n",
    "    print_debug(K22, 'K22')\n",
    "    S21 = K22 - (LK12.t() @ LK12)\n",
    "    print_debug(S21, 'S21')\n",
    "    return mu2, S21"
   ]
  },
  {
   "cell_type": "code",
   "execution_count": 40,
   "metadata": {},
   "outputs": [
    {
     "name": "stdout",
     "output_type": "stream",
     "text": [
      "X1 <class 'torch.Tensor'> torch.float64 torch.Size([20, 1])\n",
      "y1_noisy <class 'torch.Tensor'> torch.float64 torch.Size([20, 1])\n",
      "X2 <class 'torch.Tensor'> torch.float64 torch.Size([100, 1])\n",
      "K11 <class 'torch.Tensor'> torch.float64 torch.Size([20, 20])\n",
      "L11 <class 'torch.Tensor'> torch.float64 torch.Size([20, 20])\n",
      "K12 <class 'torch.Tensor'> torch.float64 torch.Size([20, 100])\n",
      "LK12 <class 'torch.Tensor'> torch.float64 torch.Size([20, 100])\n",
      "Ly1 <class 'torch.Tensor'> torch.float64 torch.Size([20, 1])\n",
      "v <class 'torch.Tensor'> torch.float64 torch.Size([100, 1])\n",
      "K22 <class 'torch.Tensor'> torch.float64 torch.Size([100, 100])\n",
      "S21 <class 'torch.Tensor'> torch.float64 torch.Size([100, 100])\n",
      "mean_noise <class 'torch.Tensor'> torch.float64 torch.Size([100, 1])\n",
      "cov_noise <class 'torch.Tensor'> torch.float64 torch.Size([100, 100])\n",
      "std <class 'torch.Tensor'> torch.float64 torch.Size([100])\n"
     ]
    }
   ],
   "source": [
    "print_debug(X1, 'X1')\n",
    "print_debug(y1_noisy, 'y1_noisy')\n",
    "print_debug(X2, 'X2')\n",
    "mean_noise, cov_noise = GP(X1, y1_noisy, X2, kernel_func)\n",
    "print_debug(mean_noise, 'mean_noise')\n",
    "print_debug(cov_noise, 'cov_noise')\n",
    "std = torch.sqrt(torch.diag(cov_noise))\n",
    "print_debug(std, 'std')"
   ]
  },
  {
   "cell_type": "code",
   "execution_count": 41,
   "metadata": {},
   "outputs": [
    {
     "name": "stdout",
     "output_type": "stream",
     "text": [
      "std_eval <class 'numpy.ndarray'> float64 (100,)\n",
      "[-0.08468998 -0.08113217 -0.06582579 -0.04045771 -0.0077467   0.02672541\n",
      "  0.05435183  0.06621634  0.05740829  0.03002142 -0.0074283  -0.04393813\n",
      " -0.07071956 -0.08372798 -0.08297344 -0.07009404 -0.04676073 -0.01529913\n",
      "  0.01944071  0.04937917  0.06531449  0.06111072  0.03723866  0.00105787\n",
      " -0.03654643 -0.06597556 -0.0821021  -0.08423603 -0.07386061 -0.05266478\n",
      " -0.02268089  0.01193186  0.04372483  0.06342256  0.06384429  0.04385304\n",
      "  0.0094818  -0.02874492 -0.06057726 -0.07979899 -0.08490083 -0.07710937\n",
      " -0.05814013 -0.02982726  0.00429652  0.03748414  0.06058421  0.06557223\n",
      "  0.04976147  0.01772297 -0.02062052 -0.05455648 -0.07681008 -0.08494828\n",
      " -0.07982426 -0.06316215 -0.03668219 -0.00337287  0.03075715  0.05685811\n",
      "  0.06627575  0.05487198  0.02565983 -0.01227064 -0.04795692 -0.07313317\n",
      " -0.08435909 -0.08198864 -0.06771013 -0.04319794 -0.01099056  0.02364619\n",
      "  0.05231605  0.06595422  0.05910597  0.03317243 -0.00380178 -0.04083458\n",
      " -0.06877388 -0.08311527 -0.0835849  -0.071766   -0.04933447 -0.01847853\n",
      "  0.01625348  0.04704082  0.06462495  0.06239999  0.04014527  0.00467236\n",
      " -0.03325784 -0.0637471  -0.08120138 -0.08459441 -0.07531323 -0.05505863\n",
      " -0.02576711  0.0086789   0.04112391  0.06232232]\n",
      "mean_noise_eval <class 'numpy.ndarray'> float64 (100,)\n"
     ]
    },
    {
     "data": {
      "image/png": "[encoded data removed]",
      "text/plain": [
       "<Figure size 432x288 with 1 Axes>"
      ]
     },
     "metadata": {
      "needs_background": "light"
     },
     "output_type": "display_data"
    }
   ],
   "source": [
    "std_eval = std.detach().numpy()\n",
    "print_debug(std_eval, 'std_eval')\n",
    "mean_noise_eval = mean_noise.detach().numpy().squeeze()\n",
    "print(mean_noise_eval)\n",
    "print_debug(mean_noise_eval, 'mean_noise_eval')\n",
    "\n",
    "# Plot the postior distribution and some samples\n",
    "fig, ax1 = plt.subplots(nrows=1, ncols=1)\n",
    "# Plot the distribution of the function (mean, covariance)\n",
    "ax1.plot(X2.numpy(), f_sin(X2.numpy()), 'b--', label='$sin(x)$')\n",
    "ax1.fill_between(\n",
    "    X2.numpy().squeeze(), \n",
    "    mean_noise_eval-2*std_eval, \n",
    "    mean_noise_eval+2*std_eval, \n",
    "    color='lightgrey', label='$2\\sigma_2$')\n",
    "ax1.plot(X2.numpy(), mean_noise_eval, 'r-', lw=2, label='$\\mu_2$')\n",
    "ax1.plot(X1.numpy(), y1_noisy.numpy(), 'ko', linewidth=2, label='$(x_1, y_1)$')\n",
    "ax1.set_xlabel('$x$', fontsize=15)\n",
    "ax1.set_ylabel('$y$', fontsize=15)\n",
    "ax1.set_title('Distribution of posterior')\n",
    "ax1.axis([*domain, -2, 2])\n",
    "plt.show()\n",
    "#"
   ]
  },
  {
   "cell_type": "markdown",
   "metadata": {},
   "source": [
    "- [Cost function could be marginal likelihood](https://pdfs.semanticscholar.org/aa65/042ae494455a14811927eb0574871d276454.pdf)\n",
    "- https://chrischoy.github.io/research/learning-gaussian-process-covariances/\n",
    "- [GPflow](https://github.com/GPflow/GPflow)\n",
    "- [GPflow paper](https://arxiv.org/abs/1610.08733)\n",
    "- https://blog.dominodatalab.com/fitting-gaussian-process-models-python/\n",
    "\n",
    "- [Lazy tensor PyTorch](https://github.com/cornellius-gp/gpytorch/blob/01cf8a298fc53fb77d30ee649fbac6cb8c54826e/gpytorch/lazy/lazy_tensor.py#L16)\n",
    "- [GPytorch](https://github.com/cornellius-gp/gpytorch/tree/master/examples)\n",
    "\n",
    "- [mauna-loa-atmospheric-co2 openml data](https://www.openml.org/d/41187)\n",
    "- [Sklearn CO2 data](http://scikit-learn.org/dev/auto_examples/gaussian_process/plot_gpr_co2.html#sphx-glr-auto-examples-gaussian-process-plot-gpr-co2-py)\n",
    "- [PyMC3 CO2](https://docs.pymc.io/notebooks/GP-MaunaLoa.html)\n",
    "- [PyTorch examples](https://pytorch.org/tutorials/beginner/pytorch_with_examples.html)\n",
    "- [GP TFp](https://www.tensorflow.org/probability/api_docs/python/tfp/distributions/GaussianProcess)\n",
    "- [Scalable Gaussian process inference using variational methods](http://mlg.eng.cam.ac.uk/matthews/thesis.pdf)"
   ]
  }
 ],
 "metadata": {
  "kernelspec": {
   "display_name": "Python 3",
   "language": "python",
   "name": "python3"
  },
  "language_info": {
   "codemirror_mode": {
    "name": "ipython",
    "version": 3
   },
   "file_extension": ".py",
   "mimetype": "text/x-python",
   "name": "python",
   "nbconvert_exporter": "python",
   "pygments_lexer": "ipython3",
   "version": "3.6.6"
  }
 },
 "nbformat": 4,
 "nbformat_minor": 2
}
