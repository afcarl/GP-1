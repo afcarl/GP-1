{
 "cells": [
  {
   "cell_type": "code",
   "execution_count": 1,
   "metadata": {},
   "outputs": [
    {
     "name": "stderr",
     "output_type": "stream",
     "text": [
      "/home/peter/anaconda3/envs/tensorflow/lib/python3.6/importlib/_bootstrap.py:219: ImportWarning: can't resolve package from __spec__ or __package__, falling back on __name__ and __path__\n",
      "  return f(*args, **kwds)\n",
      "/home/peter/anaconda3/envs/tensorflow/lib/python3.6/importlib/_bootstrap.py:219: ImportWarning: can't resolve package from __spec__ or __package__, falling back on __name__ and __path__\n",
      "  return f(*args, **kwds)\n",
      "/home/peter/anaconda3/envs/tensorflow/lib/python3.6/importlib/_bootstrap.py:219: ImportWarning: can't resolve package from __spec__ or __package__, falling back on __name__ and __path__\n",
      "  return f(*args, **kwds)\n",
      "/home/peter/anaconda3/envs/tensorflow/lib/python3.6/importlib/_bootstrap.py:219: ImportWarning: can't resolve package from __spec__ or __package__, falling back on __name__ and __path__\n",
      "  return f(*args, **kwds)\n"
     ]
    }
   ],
   "source": [
    "%load_ext autoreload\n",
    "%autoreload 2\n",
    "\n",
    "import sys\n",
    "import numpy as np\n",
    "import pandas as pd\n",
    "import scipy\n",
    "import sklearn\n",
    "import sklearn.datasets\n",
    "import tensorflow as tf\n",
    "import tensorflow_probability as tfp\n",
    "import matplotlib\n",
    "import matplotlib.pyplot as plt\n",
    "import seaborn as sns\n",
    "from functools import partial\n",
    "\n",
    "tfd = tfp.distributions\n",
    "psd_kernels = tfp.positive_semidefinite_kernels"
   ]
  },
  {
   "cell_type": "code",
   "execution_count": 2,
   "metadata": {
    "scrolled": false
   },
   "outputs": [
    {
     "name": "stdout",
     "output_type": "stream",
     "text": [
      "dtype:  <class 'numpy.float64'>\n",
      "self.origin:  <class 'tensorflow.python.framework.ops.Tensor'> <dtype: 'float64'> (3,)\n",
      "self.bias:  <class 'tensorflow.python.framework.ops.Tensor'> <dtype: 'float64'> ()\n",
      "self.amplitude:  <class 'tensorflow.python.framework.ops.Tensor'> <dtype: 'float64'> ()\n",
      "kernel_linear.batch_shape:  (3,)\n",
      "kernel_linear_batch_shape:  Tensor(\"Linear/batch_shape:0\", shape=(1,), dtype=int32)\n",
      "x:  (5, 3)\n",
      "y:  (4, 3)\n",
      "x1:  (5, 3)\n",
      "x2:  (4, 3)\n",
      "\n",
      "Linear._apply\n",
      "x1:  <class 'tensorflow.python.framework.ops.Tensor'> <dtype: 'float64'> (5, 1, 3)\n",
      "x2:  <class 'tensorflow.python.framework.ops.Tensor'> <dtype: 'float64'> (1, 4, 3)\n",
      "x1:  <class 'tensorflow.python.framework.ops.Tensor'> <dtype: 'float64'> (5, 1, 3)\n",
      "x2:  <class 'tensorflow.python.framework.ops.Tensor'> <dtype: 'float64'> (1, 4, 3)\n",
      "x2.T:  <class 'tensorflow.python.framework.ops.Tensor'> <dtype: 'float64'> (3, 4, 1)\n",
      "dot_prod:  <class 'tensorflow.python.framework.ops.Tensor'> <dtype: 'float64'> (5, 4)\n",
      "dot_prod:  <class 'tensorflow.python.framework.ops.Tensor'> <dtype: 'float64'> (5, 4)\n",
      "dot_prod:  <class 'tensorflow.python.framework.ops.Tensor'> <dtype: 'float64'> (5, 4)\n",
      "m:  <class 'tensorflow.python.framework.ops.Tensor'> <dtype: 'float64'> (5, 4)\n",
      "[[1.67219414 1.67219414 1.67219414 1.67219414]\n",
      " [1.67219414 1.67219414 1.67219414 1.67219414]\n",
      " [1.67219414 1.67219414 1.67219414 1.67219414]\n",
      " [1.67219414 1.67219414 1.67219414 1.67219414]\n",
      " [1.67219414 1.67219414 1.67219414 1.67219414]]\n"
     ]
    }
   ],
   "source": [
    "from linear import Linear\n",
    "\n",
    "# Linear kernel\n",
    "amplitude_linear = tf.math.softplus(tf.Variable(np.float64(0)), name='amplitude_linear')\n",
    "bias_linear = tf.math.softplus(tf.Variable(np.float64(0)), name='bias_linear')\n",
    "origin_linear = tf.Variable(np.zeros((3), dtype=np.float64), name='origin_linear')\n",
    "kernel_linear = Linear(\n",
    "    amplitude=amplitude_linear,\n",
    "    bias=bias_linear,\n",
    "    origin=origin_linear)\n",
    "# print('kernel_linear: ', kernel_linear)\n",
    "print('kernel_linear.batch_shape: ', kernel_linear.batch_shape)\n",
    "\n",
    "kernel_linear_batch_shape = kernel_linear.batch_shape_tensor()\n",
    "print('kernel_linear_batch_shape: ', kernel_linear_batch_shape)\n",
    "\n",
    "x = np.ones([5, 3], np.float64)\n",
    "y = np.ones([4, 3], np.float64)\n",
    "print('x: ', x.shape)\n",
    "print('y: ', y.shape)\n",
    "x1 = tf.convert_to_tensor(x, name='x1')\n",
    "x2 = tf.convert_to_tensor(y, name='x2')\n",
    "print('x1: ', x1.shape)\n",
    "print('x2: ', x2.shape)\n",
    "\n",
    "m = kernel_linear.matrix(x, y)\n",
    "print('m: ', type(m), m.dtype, m.shape)\n",
    "\n",
    "sess = tf.InteractiveSession()\n",
    "sess.run(tf.global_variables_initializer())\n",
    "m_eval = sess.run(m)\n",
    "print(m_eval)\n",
    "sess.close()"
   ]
  },
  {
   "cell_type": "code",
   "execution_count": 6,
   "metadata": {},
   "outputs": [
    {
     "name": "stdout",
     "output_type": "stream",
     "text": [
      "X:  (100, 1)\n",
      "zero:  (1, 1)\n",
      "dtype:  <class 'numpy.float64'>\n",
      "self.origin:  <class 'tensorflow.python.framework.ops.Tensor'> <dtype: 'float64'> ()\n",
      "self.bias:  <class 'tensorflow.python.framework.ops.Tensor'> <dtype: 'float64'> ()\n",
      "self.amplitude:  <class 'tensorflow.python.framework.ops.Tensor'> <dtype: 'float64'> ()\n",
      "\n",
      "Linear._apply\n",
      "x1:  <class 'tensorflow.python.framework.ops.Tensor'> <dtype: 'float64'> (100, 1)\n",
      "x2:  <class 'tensorflow.python.framework.ops.Tensor'> <dtype: 'float64'> (1, 1)\n",
      "x1:  <class 'tensorflow.python.framework.ops.Tensor'> <dtype: 'float64'> (100, 1)\n",
      "x2:  <class 'tensorflow.python.framework.ops.Tensor'> <dtype: 'float64'> (1, 1)\n",
      "x2.T:  <class 'tensorflow.python.framework.ops.Tensor'> <dtype: 'float64'> (1, 1)\n",
      "dot_prod:  <class 'tensorflow.python.framework.ops.Tensor'> <dtype: 'float64'> (100, 1)\n",
      "dot_prod:  <class 'tensorflow.python.framework.ops.Tensor'> <dtype: 'float64'> (100, 1)\n",
      "dot_prod:  <class 'tensorflow.python.framework.ops.Tensor'> <dtype: 'float64'> (100, 1)\n",
      "y1:  <class 'numpy.ndarray'> (100, 1)\n",
      "dtype:  <class 'numpy.float64'>\n",
      "self.origin:  <class 'tensorflow.python.framework.ops.Tensor'> <dtype: 'float64'> ()\n",
      "self.bias:  <class 'tensorflow.python.framework.ops.Tensor'> <dtype: 'float64'> ()\n",
      "self.amplitude:  <class 'tensorflow.python.framework.ops.Tensor'> <dtype: 'float64'> ()\n",
      "\n",
      "Linear._apply\n",
      "x1:  <class 'tensorflow.python.framework.ops.Tensor'> <dtype: 'float64'> (100, 1)\n",
      "x2:  <class 'tensorflow.python.framework.ops.Tensor'> <dtype: 'float64'> (1, 1)\n",
      "x1:  <class 'tensorflow.python.framework.ops.Tensor'> <dtype: 'float64'> (100, 1)\n",
      "x2:  <class 'tensorflow.python.framework.ops.Tensor'> <dtype: 'float64'> (1, 1)\n",
      "x2.T:  <class 'tensorflow.python.framework.ops.Tensor'> <dtype: 'float64'> (1, 1)\n",
      "dot_prod:  <class 'tensorflow.python.framework.ops.Tensor'> <dtype: 'float64'> (100, 1)\n",
      "dot_prod:  <class 'tensorflow.python.framework.ops.Tensor'> <dtype: 'float64'> (100, 1)\n",
      "dot_prod:  <class 'tensorflow.python.framework.ops.Tensor'> <dtype: 'float64'> (100, 1)\n",
      "y2:  <class 'numpy.ndarray'> (100, 1)\n",
      "dtype:  <class 'numpy.float64'>\n",
      "self.origin:  <class 'tensorflow.python.framework.ops.Tensor'> <dtype: 'float64'> ()\n",
      "self.bias:  <class 'tensorflow.python.framework.ops.Tensor'> <dtype: 'float64'> ()\n",
      "self.amplitude:  <class 'tensorflow.python.framework.ops.Tensor'> <dtype: 'float64'> ()\n",
      "\n",
      "Linear._apply\n",
      "x1:  <class 'tensorflow.python.framework.ops.Tensor'> <dtype: 'float64'> (100, 1)\n",
      "x2:  <class 'tensorflow.python.framework.ops.Tensor'> <dtype: 'float64'> (1, 1)\n",
      "x1:  <class 'tensorflow.python.framework.ops.Tensor'> <dtype: 'float64'> (100, 1)\n",
      "x2:  <class 'tensorflow.python.framework.ops.Tensor'> <dtype: 'float64'> (1, 1)\n",
      "x2.T:  <class 'tensorflow.python.framework.ops.Tensor'> <dtype: 'float64'> (1, 1)\n",
      "dot_prod:  <class 'tensorflow.python.framework.ops.Tensor'> <dtype: 'float64'> (100, 1)\n",
      "dot_prod:  <class 'tensorflow.python.framework.ops.Tensor'> <dtype: 'float64'> (100, 1)\n",
      "dot_prod:  <class 'tensorflow.python.framework.ops.Tensor'> <dtype: 'float64'> (100, 1)\n",
      "y3:  <class 'numpy.ndarray'> (100, 1)\n"
     ]
    },
    {
     "data": {
      "image/png": "[encoded data removed]",
      "text/plain": [
       "<Figure size 432x288 with 1 Axes>"
      ]
     },
     "metadata": {
      "needs_background": "light"
     },
     "output_type": "display_data"
    }
   ],
   "source": [
    "sess = tf.InteractiveSession()\n",
    "\n",
    "# Plot some kernel values of y with respect to 0\n",
    "X = np.expand_dims(np.linspace(-4, 4, num=100), 1)\n",
    "print('X: ', X.shape)\n",
    "zero = np.array([[0.]])\n",
    "print('zero: ', zero.shape)\n",
    "# y1 = linear_kernel(zero, X, b=0, c=1)\n",
    "kernel_linear = Linear(\n",
    "    amplitude=tf.convert_to_tensor(1., dtype=tf.float64),\n",
    "    bias=tf.convert_to_tensor(0., dtype=tf.float64),\n",
    "    origin=tf.convert_to_tensor(1., dtype=tf.float64),)\n",
    "y1 = sess.run(kernel_linear.apply(X, zero))\n",
    "print('y1: ', type(y1), y1.shape)\n",
    "# y2 = linear_kernel(zero, X, b=0, c=-1)\n",
    "kernel_linear = Linear(\n",
    "    amplitude=tf.convert_to_tensor(1., dtype=tf.float64),\n",
    "    bias=tf.convert_to_tensor(0., dtype=tf.float64),\n",
    "    origin=tf.convert_to_tensor(-1., dtype=tf.float64),)\n",
    "y2 = sess.run(kernel_linear.apply(X, zero))\n",
    "print('y2: ', type(y2), y2.shape)\n",
    "# y3 = linear_kernel(zero, X, b=2, c=0)\n",
    "kernel_linear = Linear(\n",
    "    amplitude=tf.convert_to_tensor(1., dtype=tf.float64),\n",
    "    bias=tf.convert_to_tensor(2., dtype=tf.float64),\n",
    "    origin=tf.convert_to_tensor(0., dtype=tf.float64),)\n",
    "y3 = sess.run(kernel_linear.apply(X, zero))\n",
    "print('y3: ', type(y3), y3.shape)\n",
    "# # Make the plots\n",
    "plt.plot(X[:,0], y1[:,0])\n",
    "plt.plot(X[:,0], y2[:,0])\n",
    "plt.plot(X[:,0], y3[:,0])\n",
    "# plt.plot((0, 0), (0, 1), 'k-')\n",
    "plt.xlabel('$y$', fontsize=15)\n",
    "plt.ylabel('$K(x,y)$', fontsize=15)\n",
    "plt.title('RBF kernel distance plots with respect to x=0')\n",
    "# plt.ylim([0, 1.1])\n",
    "plt.xlim([-4, 4])\n",
    "# plt.legend(loc=1)\n",
    "plt.show()\n",
    "#\n",
    "\n",
    "sess.close()"
   ]
  },
  {
   "cell_type": "code",
   "execution_count": 4,
   "metadata": {},
   "outputs": [],
   "source": [
    "sess.close()"
   ]
  },
  {
   "cell_type": "code",
   "execution_count": null,
   "metadata": {},
   "outputs": [],
   "source": []
  },
  {
   "cell_type": "code",
   "execution_count": 5,
   "metadata": {},
   "outputs": [],
   "source": [
    "# [[[[1.67219414]\n",
    "#    [1.67219414]\n",
    "#    [1.67219414]\n",
    "#    [1.67219414]]]\n",
    "\n",
    "\n",
    "#  [[[1.67219414]\n",
    "#    [1.67219414]\n",
    "#    [1.67219414]\n",
    "#    [1.67219414]]]\n",
    "\n",
    "\n",
    "#  [[[1.67219414]\n",
    "#    [1.67219414]\n",
    "#    [1.67219414]\n",
    "#    [1.67219414]]]\n",
    "\n",
    "\n",
    "#  [[[1.67219414]\n",
    "#    [1.67219414]\n",
    "#    [1.67219414]\n",
    "#    [1.67219414]]]\n",
    "\n",
    "\n",
    "#  [[[1.67219414]\n",
    "#    [1.67219414]\n",
    "#    [1.67219414]\n",
    "#    [1.67219414]]]]"
   ]
  }
 ],
 "metadata": {
  "kernelspec": {
   "display_name": "Python 3",
   "language": "python",
   "name": "python3"
  },
  "language_info": {
   "codemirror_mode": {
    "name": "ipython",
    "version": 3
   },
   "file_extension": ".py",
   "mimetype": "text/x-python",
   "name": "python",
   "nbconvert_exporter": "python",
   "pygments_lexer": "ipython3",
   "version": "3.6.6"
  }
 },
 "nbformat": 4,
 "nbformat_minor": 2
}
