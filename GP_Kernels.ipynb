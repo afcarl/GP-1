{
 "cells": [
  {
   "cell_type": "markdown",
   "metadata": {},
   "source": [
    "# Kernels\n",
    "\n",
    " \n",
    "$$ \\log p(\\mathbf{y} \\mid X, \\theta) = - \\frac{1}{2} \\mathbf{y}^\\top K_y^{-1}\\mathbf{y} - \\frac{1}{2} \\log \\lvert K \\rvert - \\frac{n}{2} \\log 2 \\pi $$\n",
    "\n",
    "$$\n",
    "\\frac{\\partial \\log p(\\mathbf{y} \\mid X, \\theta)}{\\partial \\theta_j} = \\frac{1}{2} \\mathbf{y}^\\top K^{-1} \\frac{K}{\\partial \\theta_j} K^{-1} \\mathbf{y} - \\frac{1}{2} \\text{tr}   \\left(K^{-1} \\frac{K}{\\partial \\theta_j} \\right) \\\\\n",
    "= \\frac{1}{2} \\text{tr} \\left( (\\alpha \\alpha^\\top - K^{-1})\\frac{K}{\\partial \\theta_j} \\right)\n",
    "$$\n",
    "\n",
    "With $\\alpha = K^{-1}\\mathbf{y}$\n",
    "\n",
    "TODO: what about mean: http://is.tuebingen.mpg.de/fileadmin/user_upload/files/publications/pdf2903.pdf"
   ]
  },
  {
   "cell_type": "markdown",
   "metadata": {},
   "source": [
    "$$K(x,y) = e^{\\textstyle \\left( -\\frac{1}{2\\sigma^2} \\lVert x-y \\rVert^2 \\right)} $$\n",
    "\n",
    "$$\n",
    "\\frac{K}{\\partial \\sigma} = \\frac{\\lVert x-y \\rVert^2}{\\sigma^3} e^{\\textstyle \\left( -\\frac{1}{2\\sigma^2} \\lVert x-y \\rVert^2 \\right)}\n",
    "$$"
   ]
  },
  {
   "cell_type": "code",
   "execution_count": 1,
   "metadata": {
    "collapsed": true
   },
   "outputs": [],
   "source": [
    "from __future__ import division\n",
    "import numpy as np\n",
    "import matplotlib.pyplot as plt\n",
    "from matplotlib import cm # Colormaps\n",
    "import matplotlib.gridspec as gridspec\n",
    "import scipy.spatial\n",
    "# Allow matplotlib to plot inside this notebook\n",
    "%matplotlib inline\n",
    "# Set the seed of the numpy random number generator so that the tutorial is reproducable\n",
    "np.random.seed(seed=1)"
   ]
  },
  {
   "cell_type": "code",
   "execution_count": 2,
   "metadata": {
    "collapsed": false
   },
   "outputs": [],
   "source": [
    "# Define the RBF kernel\n",
    "def rbf_kernel(x, y, width):\n",
    "    \"\"\"Radial Basis Function (RBF) kernel\"\"\"\n",
    "    sqNorm = np.square(x) + np.square(y).T - 2*np.dot(x, y.T)  # (a-b)^2 = a^2 + b^2 - 2ab\n",
    "    return np.exp(-(1.0/(2*width**2) * sqNorm)) #+ 1e-14 * np.eye(n1)\n",
    "\n",
    "# Define the RBF kernel\n",
    "def rbf_deriv(x, y, width):\n",
    "    \"\"\"Radial Basis Function (RBF) kernel\"\"\"\n",
    "    sqNorm = np.square(x) + np.square(y).T - 2*np.dot(x, y.T)  # (a-b)^2 = a^2 + b^2 - 2ab\n",
    "    return (sqNorm/(width**3)) * np.exp(-(1.0/(2*width**2) * sqNorm)) #+ 1e-14 * np.eye(n1)"
   ]
  },
  {
   "cell_type": "code",
   "execution_count": 3,
   "metadata": {
    "collapsed": false
   },
   "outputs": [
    {
     "name": "stdout",
     "output_type": "stream",
     "text": [
      "X1 [[-0.99573594]\n",
      " [ 2.64389392]\n",
      " [-5.9986275 ]]\n",
      "y1 [[-0.83915946]\n",
      " [ 0.47740472]\n",
      " [ 0.28073307]]\n"
     ]
    }
   ],
   "source": [
    "# Compute the posterior mean and covariance, and sample some functions.\n",
    "# Define the true function that we want to regress on\n",
    "f = lambda x: np.sin(x)\n",
    "\n",
    "n1 = 3  # Number of points to condition on (training points)\n",
    "width = 1  # The width of the RBF kernel\n",
    "domain = (-6, 6)\n",
    "\n",
    "# Sample some points (X1, y1) on the function\n",
    "X1 = np.random.uniform(domain[0], domain[1], size=(n1,1))\n",
    "y1 = f(X1)\n",
    "\n",
    "print 'X1', X1\n",
    "print 'y1', y1"
   ]
  },
  {
   "cell_type": "code",
   "execution_count": 4,
   "metadata": {
    "collapsed": false
   },
   "outputs": [
    {
     "data": {
      "image/png": "[encoded data removed]",
      "text/plain": [
       "<matplotlib.figure.Figure at 0x1034aad90>"
      ]
     },
     "metadata": {},
     "output_type": "display_data"
    }
   ],
   "source": [
    "plt.plot(X1, y1, 'bo', linewidth=2)\n",
    "plt.axis([domain[0], domain[1], -3, 3])\n",
    "plt.show()"
   ]
  },
  {
   "cell_type": "code",
   "execution_count": 5,
   "metadata": {
    "collapsed": false
   },
   "outputs": [
    {
     "name": "stdout",
     "output_type": "stream",
     "text": [
      "No gradient errors found\n"
     ]
    }
   ],
   "source": [
    "eps = 0.0001\n",
    "param = 1\n",
    "grad_func = rbf_deriv(X1, X1, param)\n",
    "plus_kernel = rbf_kernel(X1, X1, param + eps)\n",
    "min_kernel = rbf_kernel(X1, X1, param - eps)\n",
    "# calculate numerical gradient\n",
    "grad_num = (plus_kernel - min_kernel)/(2*eps)\n",
    "#print 'grad_num', grad_num\n",
    "#print 'grad_func', grad_func\n",
    "# Raise error if the numerical grade is not close to the backprop gradient\n",
    "if not np.all(np.isclose(grad_num, grad_func)):\n",
    "    raise ValueError('Numerical gradient is not close to the backpropagation gradient!')\n",
    "print('No gradient errors found')"
   ]
  },
  {
   "cell_type": "markdown",
   "metadata": {},
   "source": [
    "$K = LL^\\top$ means that $K^{-1} = L^{-\\top} L^{-1}$\n",
    "\n",
    "$(AB)^{\\top} = B^{\\top} A^{\\top}$\n",
    "\n",
    "## Posterior\n",
    " \n",
    "$$ \\log p(\\mathbf{y} \\mid X, \\theta) = - \\frac{1}{2} \\mathbf{y}^\\top K_y^{-1}\\mathbf{y} - \\frac{1}{2} \\log \\lvert K \\rvert - \\frac{n}{2} \\log 2 \\pi\n",
    "$$\n",
    "\n",
    "$$\n",
    "\\mathbf{y}^\\top K_y^{-1}\\mathbf{y} = \\mathbf{y}^\\top L^{-\\top} L^{-1} \\mathbf{y} \\\\\n",
    "= (L^{-1} \\mathbf{y})^\\top (L^{-1} \\mathbf{y}) \\\\\n",
    "= \\left(\\frac{\\mathbf{y}}{L^{-1}}\\right)^\\top \\frac{\\mathbf{y}}{L^{-1}}\n",
    "$$"
   ]
  },
  {
   "cell_type": "code",
   "execution_count": 6,
   "metadata": {
    "collapsed": true
   },
   "outputs": [],
   "source": [
    "def posterior(y, K):\n",
    "    n = K.shape[0]\n",
    "    #L = np.linalg.cholesky(K)\n",
    "    #yL = np.linalg.solve(L, y)  # y / L\n",
    "    #det = np.linalg.det(K)\n",
    "    #return -(1/2) * yL.T.dot(yL) -(1/2) * np.log(det) - (n/2) * np.log(2*np.pi)\n",
    "    return -(1/2) * y.T.dot(np.linalg.inv(K)).dot(y) - (1/2) * np.log(np.linalg.det(K)) - (n/2) * np.log(2*np.pi)"
   ]
  },
  {
   "cell_type": "markdown",
   "metadata": {},
   "source": [
    "## Posterior Grad\n",
    " \n",
    "$$\n",
    "\\frac{\\partial \\log p(\\mathbf{y} \\mid X, \\theta)}{\\partial \\theta_j} = \\frac{1}{2} \\mathbf{y}^\\top K^{-1} \\frac{K}{\\partial \\theta_j} K^{-1} \\mathbf{y} - \\frac{1}{2} \\text{tr}   \\left(K^{-1} \\frac{K}{\\partial \\theta_j} \\right) \\\\\n",
    "= \\frac{1}{2} \\text{tr} \\left( (\\alpha \\alpha^\\top - K^{-1})\\frac{K}{\\partial \\theta_j} \\right)\n",
    "$$\n",
    "\n",
    "With $\\alpha = K^{-1}\\mathbf{y}$"
   ]
  },
  {
   "cell_type": "code",
   "execution_count": 7,
   "metadata": {
    "collapsed": false
   },
   "outputs": [],
   "source": [
    "def posterior_grad(y, K, Kgrad):\n",
    "    print 'y', y\n",
    "    KInv = np.linalg.inv(K)\n",
    "    a = np.linalg.solve(K, y)  # y / K\n",
    "    #a = KInv.dot(y) \n",
    "    aaK = a.dot(a.T)-KInv\n",
    "    print 'aaK', aaK\n",
    "    #print 'Kgrad', Kgrad\n",
    "    return (1/2) * np.trace(aaK.dot(Kgrad))\n",
    "    #return (1/2) * y.T.dot(KInv).dot(Kgrad).dot(KInv).dot(y) - (1/2)*np.trace(KInv.dot(Kgrad))\n",
    "    #print 'np.asmatrix(y.dot(y.T))', np.asmatrix(y.dot(y.T))\n",
    "    #return (1/2) * np.trace(np.asmatrix(y.dot(y.T)).dot(KInv).dot(Kgrad).dot(KInv)) - (1/2)*np.trace(KInv.dot(Kgrad))"
   ]
  },
  {
   "cell_type": "code",
   "execution_count": 8,
   "metadata": {
    "collapsed": false
   },
   "outputs": [
    {
     "name": "stdout",
     "output_type": "stream",
     "text": [
      "K.shape (3, 3)\n",
      "Kgrad.shape (3, 3)\n",
      "y [[-0.83915946]\n",
      " [ 0.47740472]\n",
      " [ 0.28073307]]\n",
      "aaK [[-0.29474383 -0.40053108 -0.23575753]\n",
      " [-0.40053108 -0.77101973  0.13433805]\n",
      " [-0.23575753  0.13433805 -0.92118721]]\n",
      "grad_num_post [[-0.0070722]]\n",
      "grad_func_post -0.00707220285046\n",
      "No gradient errors found\n"
     ]
    }
   ],
   "source": [
    "eps = 0.0001\n",
    "param = 1\n",
    "K = rbf_kernel(X1, X1, param)\n",
    "Kgrad = rbf_deriv(X1, X1, param)\n",
    "print 'K.shape', K.shape\n",
    "print 'Kgrad.shape', Kgrad.shape\n",
    "\n",
    "grad_func_post = posterior_grad(y1, K, Kgrad)\n",
    "plus_post = posterior(y1, rbf_kernel(X1, X1, param+eps))\n",
    "min_post = posterior(y1, rbf_kernel(X1, X1, param-eps))\n",
    "# calculate numerical gradient\n",
    "grad_num_post = (plus_post - min_post)/(2*eps)\n",
    "print 'grad_num_post', grad_num_post\n",
    "print 'grad_func_post', grad_func_post\n",
    "# Raise error if the numerical grade is not close to the backprop gradient\n",
    "if not np.isclose(grad_num_post, grad_func_post):\n",
    "    raise ValueError('Numerical gradient is not close to the backpropagation gradient!')\n",
    "print('No gradient errors found')"
   ]
  }
 ],
 "metadata": {
  "kernelspec": {
   "display_name": "Python 2",
   "language": "python",
   "name": "python2"
  },
  "language_info": {
   "codemirror_mode": {
    "name": "ipython",
    "version": 2
   },
   "file_extension": ".py",
   "mimetype": "text/x-python",
   "name": "python",
   "nbconvert_exporter": "python",
   "pygments_lexer": "ipython2",
   "version": "2.7.11"
  }
 },
 "nbformat": 4,
 "nbformat_minor": 0
}
